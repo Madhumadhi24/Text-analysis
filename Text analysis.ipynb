{
 "cells": [
  {
   "cell_type": "markdown",
   "metadata": {},
   "source": [
    "### Question\n"
   ]
  },
  {
   "cell_type": "markdown",
   "metadata": {},
   "source": [
    "Your program should define the following functions and call them in order. \n",
    "\n",
    "1. Write a function get_string to read a string from the user.\n",
    "\n",
    "2. Write a function punctuation_count to count the number of the punctuations in the input string in the last step. List of punctuations to consider for this part is . , : ; ' \" ) ( ? !\n",
    "\n",
    "3. Write a function top_frequent that accepts an integer k as an input and returns the k-th top frequent word.\n"
   ]
  },
  {
   "cell_type": "markdown",
   "metadata": {},
   "source": [
    "### Sample Output"
   ]
  },
  {
   "cell_type": "markdown",
   "metadata": {},
   "source": [
    "Enter a text: \n",
    "It was November. Although it was not yet late, the sky was dark when I turned into Laundress Passage. \n",
    "Father had finished for the day, switched off the shop lights and closed the shutters; \n",
    "but so I would not come home to darkness he had left on the light over the stairs to the flat. \n",
    "Through the glass in the door it cast a foolscap rectangle of paleness onto the wet pavement, \n",
    "and it was while I was standing in that rectangle, about to turn my key in the door, that \n",
    "I first saw the letter. Another white rectangle, it was on the fifth step from the bottom, \n",
    "where I couldn't miss it.\n",
    "\n",
    "Total number of punctuations in this text is: 14.\n",
    "\n",
    "Enter a number: \n",
    "4\n",
    "(5, 'i')"
   ]
  },
  {
   "cell_type": "code",
   "execution_count": 1,
   "metadata": {},
   "outputs": [
    {
     "name": "stdout",
     "output_type": "stream",
     "text": [
      "Enter a text: \n",
      "Enter a text:  It was November. Although it was not yet late, the sky was dark when I turned into Laundress Passage.  Father had finished for the day, switched off the shop lights and closed the shutters;  but so I would not come home to darkness he had left on the light over the stairs to the flat.  Through the glass in the door it cast a foolscap rectangle of paleness onto the wet pavement,  and it was while I was standing in that rectangle, about to turn my key in the door, that  I first saw the letter. Another white rectangle, it was on the fifth step from the bottom,  where I couldn't miss it.\n",
      "\n",
      "Total number of punctuations in this text is: 15.\n",
      "\n",
      "Enter a number: \n",
      "4\n",
      "(5, 'i')\n"
     ]
    }
   ],
   "source": [
    "def get_string():\n",
    "    text_input = input('Enter a text: \\n')\n",
    "    print('')\n",
    "    return text_input\n",
    "\n",
    "def punctuation_count(text_input):\n",
    "    punctuation_list = [',','.',')','(',':',';',\"'\",'\"','?','!']\n",
    "    total_punctuation = 0\n",
    "    for i in range(0,len(punctuation_list)):\n",
    "        total_punctuation += text_input.count(punctuation_list[i],0,len(text_input))\n",
    "        i += 1\n",
    "    print('Total number of punctuations in this text is: %d.'%total_punctuation)\n",
    "    print('')\n",
    "    \n",
    "def top_frequent(text_input):\n",
    "    text_input = text_input.lower().strip()\n",
    "    punctuation_list = [',','.',')','(',':',';',\"'\",'\"','?','!']\n",
    "    \n",
    "    #to remove punctauations\n",
    "    for i in range(0,len(punctuation_list)):\n",
    "        text_input = text_input.replace(punctuation_list[i],'')\n",
    "        i += 1\n",
    "        \n",
    "    #to make a list from the string\n",
    "    text_input_split = text_input.split()\n",
    "    \n",
    "    #to make a list of unique words from the input\n",
    "    unique_words = []\n",
    "    for w in text_input_split :\n",
    "        if not w in unique_words :\n",
    "            unique_words.append(w)\n",
    "            \n",
    "    #to count the number of unique words in the input list\n",
    "    unique_word_count = []\n",
    "    for u in range(0,len(unique_words)):\n",
    "        word_count = text_input_split.count(unique_words[u])\n",
    "        unique_word_count.append(word_count)\n",
    "        u += 1\n",
    "        \n",
    "    #making a dictionary with word and count side by side\n",
    "    word_dict = dict(zip(unique_words,unique_word_count))\n",
    "    \n",
    "    #to arrange the word count in reverse order\n",
    "    unique_word_count.sort(reverse = True)\n",
    "    \n",
    "    # to arrange the words in descending order according to their count\n",
    "    sorted_word_dict = sorted(word_dict, key=word_dict.get, reverse = True)\n",
    "    \n",
    "    #getting number from user\n",
    "    k_input = int(input('Enter a number: \\n'))\n",
    "    if k_input > len(text_input_split):\n",
    "         print(-1)\n",
    "    else :\n",
    "        k = k_input - 1\n",
    "        \n",
    "    #printing in (a,'b') format\n",
    "        print(\"({}, '{}')\".format(unique_word_count[k],sorted_word_dict[k]))\n",
    "    \n",
    "text_input = get_string()\n",
    "punctuation_count(text_input)\n",
    "top_frequent(text_input)\n",
    "    \n",
    "    "
   ]
  }
 ],
 "metadata": {
  "kernelspec": {
   "display_name": "Python 3",
   "language": "python",
   "name": "python3"
  },
  "language_info": {
   "codemirror_mode": {
    "name": "ipython",
    "version": 3
   },
   "file_extension": ".py",
   "mimetype": "text/x-python",
   "name": "python",
   "nbconvert_exporter": "python",
   "pygments_lexer": "ipython3",
   "version": "3.7.5"
  }
 },
 "nbformat": 4,
 "nbformat_minor": 2
}
